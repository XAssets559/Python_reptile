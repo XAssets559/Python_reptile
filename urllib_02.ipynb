{
 "cells": [
  {
   "cell_type": "code",
   "execution_count": null,
   "metadata": {},
   "outputs": [],
   "source": [
    "from urllib.request import Request, urlopen\n",
    "import random\n",
    "\n",
    "#打开一个url返回一个Request请求对象\n",
    "#url = 'https://movie.douban.com/'# 注意尾部的斜杠一定要有\n",
    "url = 'http://www.bing.com/'\n",
    "\n",
    "ua_list = []\n",
    "ua = random.choice(ua_list)#pick one\n",
    "# ua需要加到请求头中\n",
    "request = Request(url)\n",
    "request.add_header('User-Ageny',random.choice(ua_list))\n",
    "print(type(request))\n",
    "\n",
    "response = urlopen(request,timeout=20)# request对象或者url都可以\n",
    "print(type(response))\n",
    "\n",
    "with response:\n",
    "    print(1,response.status,response.getcode(),response.reason) # 状态，getcode本质上就是返回status\n",
    "    print(2,response.geturl())# 返回数据的url.如果重定向，这个url和原始url不一样\n",
    "    # 例如原始url是http://www.bing.com/,返回http://cn.bing.com/\n",
    "    print(3, response.info()) # 返回响应头headers\n",
    "    print(4, response.read()) # 读取返回内容\n",
    "\n",
    "print(5,request.get_header('User-agent'))\n",
    "print(6, 'user-agent'.capitalize())"
   ]
  }
 ],
 "metadata": {
  "kernelspec": {
   "display_name": "Python 3",
   "language": "python",
   "name": "python3"
  },
  "language_info": {
   "codemirror_mode": {
    "name": "ipython",
    "version": 3
   },
   "file_extension": ".py",
   "mimetype": "text/x-python",
   "name": "python",
   "nbconvert_exporter": "python",
   "pygments_lexer": "ipython3",
   "version": "3.7.6"
  }
 },
 "nbformat": 4,
 "nbformat_minor": 4
}
