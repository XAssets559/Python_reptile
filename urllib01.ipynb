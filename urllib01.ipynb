{
 "cells": [
  {
   "cell_type": "code",
   "execution_count": null,
   "metadata": {},
   "outputs": [],
   "source": [
    "from urllib.request import urlopen\n",
    "\n",
    "\n",
    "#打开一个 url 返回一个响应对象，类文件对象\n",
    "#下面的链接访问后会有跳转\n",
    "response = urlopen('http://www.bing.com')#GET方法\n",
    "print(response.closed)\n",
    "with response :\n",
    "    print(1, type(response))#http.client.HTTPResponse类对象\n",
    "    print(2, response.status,response.reason)#状态\n",
    "    print(3, response.geturl())#返回真正的URL\n",
    "    print(4, response.info())# headers\n",
    "    print(5, response.read())# 读取返回的内容\n",
    "print(response.closed)"
   ]
  },
  {
   "cell_type": "code",
   "execution_count": null,
   "metadata": {},
   "outputs": [],
   "source": []
  }
 ],
 "metadata": {
  "kernelspec": {
   "display_name": "Python 3",
   "language": "python",
   "name": "python3"
  },
  "language_info": {
   "codemirror_mode": {
    "name": "ipython",
    "version": 3
   },
   "file_extension": ".py",
   "mimetype": "text/x-python",
   "name": "python",
   "nbconvert_exporter": "python",
   "pygments_lexer": "ipython3",
   "version": "3.7.6"
  }
 },
 "nbformat": 4,
 "nbformat_minor": 4
}
